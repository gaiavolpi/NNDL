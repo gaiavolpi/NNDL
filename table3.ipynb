{
 "cells": [
  {
   "cell_type": "code",
   "execution_count": 40,
   "id": "59021498-4ae1-4418-b2fc-652bd6af25de",
   "metadata": {},
   "outputs": [],
   "source": [
    "import importlib\n",
    "import random\n",
    "import numpy as np\n",
    "import torch\n",
    "\n",
    "import utils\n",
    "import dataset \n",
    "import ResNet50_blocks\n",
    "import training_functions\n",
    "\n",
    "training_functions\n",
    "seed = 0\n",
    "random.seed(seed)\n",
    "torch.manual_seed(seed)\n",
    "np.random.seed(seed)\n",
    "\n",
    "importlib.reload(utils)\n",
    "importlib.reload(dataset)\n",
    "importlib.reload(training_functions)\n",
    "importlib.reload(ResNet50_blocks);"
   ]
  },
  {
   "cell_type": "code",
   "execution_count": 15,
   "id": "324f2d07-0e88-439f-ad70-f61c35258e86",
   "metadata": {},
   "outputs": [],
   "source": [
    "volume_dir = \"/mnt/shared_volume/\""
   ]
  },
  {
   "cell_type": "code",
   "execution_count": null,
   "id": "ccc05190-ae61-4e59-91b2-6e046e0ef7dd",
   "metadata": {
    "scrolled": true
   },
   "outputs": [],
   "source": [
    "training_functions.multi_viewpoint_training(epochs_model_vp=1)"
   ]
  },
  {
   "cell_type": "code",
   "execution_count": null,
   "id": "3038dc42-dac5-484d-a03e-5c167f28ad4b",
   "metadata": {
    "scrolled": true
   },
   "outputs": [],
   "source": [
    "training_functions.make_training(epochs_make=1)"
   ]
  },
  {
   "cell_type": "code",
   "execution_count": 41,
   "id": "550c4eca-ca18-487b-8c0e-672e8f356bc9",
   "metadata": {},
   "outputs": [
    {
     "data": {
      "text/html": [
       "<div>\n",
       "<style scoped>\n",
       "    .dataframe tbody tr th:only-of-type {\n",
       "        vertical-align: middle;\n",
       "    }\n",
       "\n",
       "    .dataframe tbody tr th {\n",
       "        vertical-align: top;\n",
       "    }\n",
       "\n",
       "    .dataframe thead th {\n",
       "        text-align: right;\n",
       "    }\n",
       "</style>\n",
       "<table border=\"1\" class=\"dataframe\">\n",
       "  <thead>\n",
       "    <tr style=\"text-align: right;\">\n",
       "      <th></th>\n",
       "      <th>top1</th>\n",
       "      <th>top5</th>\n",
       "      <th>make</th>\n",
       "    </tr>\n",
       "    <tr>\n",
       "      <th>viewpoint</th>\n",
       "      <th></th>\n",
       "      <th></th>\n",
       "      <th></th>\n",
       "    </tr>\n",
       "  </thead>\n",
       "  <tbody>\n",
       "    <tr>\n",
       "      <th>front</th>\n",
       "      <td>0.002508</td>\n",
       "      <td>0.007525</td>\n",
       "      <td>0.005907</td>\n",
       "    </tr>\n",
       "    <tr>\n",
       "      <th>rear</th>\n",
       "      <td>0.014891</td>\n",
       "      <td>0.026346</td>\n",
       "      <td>0.080347</td>\n",
       "    </tr>\n",
       "    <tr>\n",
       "      <th>side</th>\n",
       "      <td>0.000738</td>\n",
       "      <td>0.018450</td>\n",
       "      <td>0.128407</td>\n",
       "    </tr>\n",
       "    <tr>\n",
       "      <th>front-side</th>\n",
       "      <td>0.010643</td>\n",
       "      <td>0.040017</td>\n",
       "      <td>0.155516</td>\n",
       "    </tr>\n",
       "    <tr>\n",
       "      <th>rear-side</th>\n",
       "      <td>0.017089</td>\n",
       "      <td>0.041839</td>\n",
       "      <td>0.154790</td>\n",
       "    </tr>\n",
       "  </tbody>\n",
       "</table>\n",
       "</div>"
      ],
      "text/plain": [
       "                top1      top5      make\n",
       "viewpoint                               \n",
       "front       0.002508  0.007525  0.005907\n",
       "rear        0.014891  0.026346  0.080347\n",
       "side        0.000738  0.018450  0.128407\n",
       "front-side  0.010643  0.040017  0.155516\n",
       "rear-side   0.017089  0.041839  0.154790"
      ]
     },
     "execution_count": 41,
     "metadata": {},
     "output_type": "execute_result"
    }
   ],
   "source": [
    "tab3 = utils.table3()\n",
    "tab3"
   ]
  }
 ],
 "metadata": {
  "kernelspec": {
   "display_name": "Python 3 (ipykernel)",
   "language": "python",
   "name": "python3"
  },
  "language_info": {
   "codemirror_mode": {
    "name": "ipython",
    "version": 3
   },
   "file_extension": ".py",
   "mimetype": "text/x-python",
   "name": "python",
   "nbconvert_exporter": "python",
   "pygments_lexer": "ipython3",
   "version": "3.10.12"
  }
 },
 "nbformat": 4,
 "nbformat_minor": 5
}
