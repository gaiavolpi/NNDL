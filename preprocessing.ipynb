{
 "cells": [
  {
   "cell_type": "code",
   "execution_count": 3,
   "id": "fa63a02f",
   "metadata": {},
   "outputs": [],
   "source": [
    "import numpy as np\n",
    "from dataset import indexing_labels\n",
    "import os\n",
    "import matplotlib.image as mpimg\n",
    "from PIL import Image"
   ]
  },
  {
   "cell_type": "markdown",
   "id": "80324bc8",
   "metadata": {},
   "source": [
    "## 1. Whole car"
   ]
  },
  {
   "cell_type": "code",
   "execution_count": null,
   "id": "142f0f89",
   "metadata": {},
   "outputs": [],
   "source": [
    "PATH = '/mnt/home/u0053/disk/gaia_dataset/CompCars/data/train_test_split/classification/'\n",
    "dict_labels = indexing_labels(\"/mnt/home/u0053/disk/gaia_dataset/CompCars/data/train_test_split/classification/train.txt\")"
   ]
  },
  {
   "cell_type": "code",
   "execution_count": 3,
   "id": "10784891",
   "metadata": {},
   "outputs": [],
   "source": [
    "final_train = \"\"\n",
    "with open(PATH+\"train.txt\", 'r') as f:\n",
    "    for line in f:\n",
    "        relative_path = line.strip() # get the paths of the images used in the paper\n",
    "        label_path = os.path.join(\"/mnt/home/u0053/disk/gaia_dataset/CompCars/data/\", 'label', relative_path.replace('.jpg', '.txt'))\n",
    "        with open(label_path, 'r') as f:\n",
    "            lines = f.readlines()\n",
    "            vp = int(lines[0].strip())\n",
    "        \n",
    "        parts = os.path.normpath(line).split(os.sep)\n",
    "        \n",
    "        model_id = parts[-3]\n",
    "        make_id = parts[-4]\n",
    "        line = line.replace('\\n', '')\n",
    "        final_train += f\"{make_id},{model_id},{vp},{line}\\n\""
   ]
  },
  {
   "cell_type": "code",
   "execution_count": 8,
   "id": "3c25908a",
   "metadata": {},
   "outputs": [],
   "source": [
    "with open('train.txt', 'w') as f:\n",
    "    f.write(final_train)"
   ]
  },
  {
   "cell_type": "code",
   "execution_count": 6,
   "id": "ac87f913",
   "metadata": {},
   "outputs": [],
   "source": [
    "final_test = \"\"\n",
    "with open(PATH+\"test.txt\", 'r') as f:\n",
    "    for line in f:\n",
    "        relative_path = line.strip() # get the paths of the images used in the paper\n",
    "        label_path = os.path.join(\"/mnt/home/u0053/disk/gaia_dataset/CompCars/data/\", 'label', relative_path.replace('.jpg', '.txt'))\n",
    "        with open(label_path, 'r') as f:\n",
    "            lines = f.readlines()\n",
    "            vp = int(lines[0].strip())\n",
    "        \n",
    "        parts = os.path.normpath(line).split(os.sep)\n",
    "        \n",
    "        model_id = parts[-3]\n",
    "        make_id = parts[-4]\n",
    "        line = line.replace('\\n', '')\n",
    "        final_test += f\"{make_id},{model_id},{vp},{line}\\n\""
   ]
  },
  {
   "cell_type": "code",
   "execution_count": 8,
   "id": "947cfd28",
   "metadata": {},
   "outputs": [],
   "source": [
    "with open('test.txt', 'w') as f:\n",
    "    f.write(final_test)"
   ]
  },
  {
   "cell_type": "markdown",
   "id": "74abe23c",
   "metadata": {},
   "source": [
    "## 2. Car parts "
   ]
  },
  {
   "cell_type": "code",
   "execution_count": 5,
   "id": "04e32d05",
   "metadata": {},
   "outputs": [],
   "source": [
    "PATH = '/mnt/home/u0053/disk/gaia_dataset/CompCars/data/train_test_split/part/'\n",
    "\n",
    "dict_labels = indexing_labels(\"/mnt/home/u0053/disk/gaia_dataset/CompCars/data/train_test_split/classification/train.txt\")"
   ]
  },
  {
   "cell_type": "code",
   "execution_count": 10,
   "id": "27278780",
   "metadata": {},
   "outputs": [],
   "source": [
    "parts = np.arange(1,9)\n",
    "\n",
    "for part in parts:\n",
    "    final_train = \"\"\n",
    "    with open(PATH+f\"train_part_{part}.txt\", 'r') as f:\n",
    "        for line in f:\n",
    "            parts = os.path.normpath(line).split(os.sep)\n",
    "            model_id = parts[1]\n",
    "            make_id = parts[0]\n",
    "            line = line.replace('\\n', '')\n",
    "            final_train += f\"{make_id},{model_id},{line}\\n\"\n",
    "    with open(f'part/train_part_{part}.txt', 'w') as f:\n",
    "        f.write(final_train)"
   ]
  },
  {
   "cell_type": "code",
   "execution_count": 12,
   "id": "3722ec10",
   "metadata": {},
   "outputs": [],
   "source": [
    "parts = np.arange(1,9)\n",
    "\n",
    "for part in parts:\n",
    "    final_test = \"\"\n",
    "    with open(PATH+f\"test_part_{part}.txt\", 'r') as f:\n",
    "        for line in f:\n",
    "            parts = os.path.normpath(line).split(os.sep)\n",
    "            model_id = parts[1]\n",
    "            make_id = parts[0]\n",
    "            line = line.replace('\\n', '')\n",
    "            final_test += f\"{make_id},{model_id},{line}\\n\"\n",
    "    with open(f'part/test_part_{part}.txt', 'w') as f:\n",
    "        f.write(final_test)"
   ]
  }
 ],
 "metadata": {
  "kernelspec": {
   "display_name": "Python alberto env",
   "language": "python",
   "name": "alberto"
  },
  "language_info": {
   "codemirror_mode": {
    "name": "ipython",
    "version": 3
   },
   "file_extension": ".py",
   "mimetype": "text/x-python",
   "name": "python",
   "nbconvert_exporter": "python",
   "pygments_lexer": "ipython3",
   "version": "3.10.16"
  }
 },
 "nbformat": 4,
 "nbformat_minor": 5
}
